{
 "cells": [
  {
   "cell_type": "code",
   "execution_count": 1,
   "id": "reduced-turkey",
   "metadata": {},
   "outputs": [
    {
     "name": "stdout",
     "output_type": "stream",
     "text": [
      "Fri May  7 16:10:14 2021       \n",
      "+-----------------------------------------------------------------------------+\n",
      "| NVIDIA-SMI 465.19.01    Driver Version: 465.19.01    CUDA Version: 11.3     |\n",
      "|-------------------------------+----------------------+----------------------+\n",
      "| GPU  Name        Persistence-M| Bus-Id        Disp.A | Volatile Uncorr. ECC |\n",
      "| Fan  Temp  Perf  Pwr:Usage/Cap|         Memory-Usage | GPU-Util  Compute M. |\n",
      "|                               |                      |               MIG M. |\n",
      "|===============================+======================+======================|\n",
      "|   0  NVIDIA A100-PCI...  Off  | 00000000:37:00.0 Off |                    0 |\n",
      "| N/A   51C    P0    60W / 250W |      0MiB / 40536MiB |      0%      Default |\n",
      "|                               |                      |             Disabled |\n",
      "+-------------------------------+----------------------+----------------------+\n",
      "|   1  NVIDIA A100-PCI...  Off  | 00000000:86:00.0 Off |                    0 |\n",
      "| N/A   70C    P0    74W / 250W |  39064MiB / 40536MiB |      0%      Default |\n",
      "|                               |                      |             Disabled |\n",
      "+-------------------------------+----------------------+----------------------+\n",
      "                                                                               \n",
      "+-----------------------------------------------------------------------------+\n",
      "| Processes:                                                                  |\n",
      "|  GPU   GI   CI        PID   Type   Process name                  GPU Memory |\n",
      "|        ID   ID                                                   Usage      |\n",
      "|=============================================================================|\n",
      "|    1   N/A  N/A     14063      C   ... 0.01 -pm 20210505-122043    39061MiB |\n",
      "+-----------------------------------------------------------------------------+\n",
      "env: CUDA_VISIBLE_DEVICES=0\n"
     ]
    },
    {
     "data": {
      "text/plain": [
       "'0'"
      ]
     },
     "execution_count": 1,
     "metadata": {},
     "output_type": "execute_result"
    }
   ],
   "source": [
    "!nvidia-smi\n",
    "%env CUDA_VISIBLE_DEVICES=0\n",
    "%env CUDA_VISIBLE_DEVICES"
   ]
  },
  {
   "cell_type": "code",
   "execution_count": 2,
   "id": "sought-gardening",
   "metadata": {},
   "outputs": [
    {
     "data": {
      "text/html": [
       "<style>.container { width:100% !important; }</style>"
      ],
      "text/plain": [
       "<IPython.core.display.HTML object>"
      ]
     },
     "metadata": {},
     "output_type": "display_data"
    }
   ],
   "source": [
    "from IPython.core.display import display, HTML\n",
    "display(HTML(\"<style>.container { width:100% !important; }</style>\"))"
   ]
  },
  {
   "cell_type": "code",
   "execution_count": 3,
   "id": "opened-slope",
   "metadata": {},
   "outputs": [
    {
     "data": {
      "text/plain": [
       "device(type='cuda')"
      ]
     },
     "execution_count": 3,
     "metadata": {},
     "output_type": "execute_result"
    }
   ],
   "source": [
    "import torchaudio\n",
    "import torch\n",
    "import torch.nn.functional as F\n",
    "import torch.nn as nn\n",
    "from tqdm.notebook import tqdm\n",
    "from glob import glob\n",
    "from datetime import datetime\n",
    "import numpy as np\n",
    "from WaveNetTTS.model import WaveNet\n",
    "import os\n",
    "import random\n",
    "device = torch.device('cuda' if torch.cuda.is_available() else 'cpu')\n",
    "device"
   ]
  },
  {
   "cell_type": "code",
   "execution_count": 4,
   "id": "induced-mauritius",
   "metadata": {},
   "outputs": [],
   "source": [
    "random.seed(12)\n",
    "os.environ['PYTHONHASHSEED'] = str(12)\n",
    "np.random.seed(12)\n",
    "torch.manual_seed(12)\n",
    "torch.cuda.manual_seed(12)"
   ]
  },
  {
   "cell_type": "code",
   "execution_count": 5,
   "id": "speaking-religious",
   "metadata": {},
   "outputs": [
    {
     "name": "stderr",
     "output_type": "stream",
     "text": [
      "Using cache found in /zhome/22/c/137477/.cache/torch/hub/huggingface_pytorch-transformers_master\n"
     ]
    }
   ],
   "source": [
    "sp_freq = 4000\n",
    "seq_len = 4000\n",
    "bins = 128\n",
    "batch_size = 44\n",
    "channels = 256\n",
    "kernel_size = 2\n",
    "dilation_depth = 9\n",
    "blocks = 2\n",
    "condition_size = 256\n",
    "\n",
    "MuLawEncoding = torchaudio.transforms.MuLawEncoding(quantization_channels=bins)\n",
    "MuLawDecoding = torchaudio.transforms.MuLawDecoding(bins)\n",
    "Resample = torchaudio.transforms.Resample(16000, sp_freq)\n",
    "\n",
    "hugging_face_model = 'bert-base-uncased'#'distilbert-base-uncased'#\n",
    "tokenizer = torch.hub.load('huggingface/pytorch-transformers', 'tokenizer', hugging_face_model)"
   ]
  },
  {
   "cell_type": "code",
   "execution_count": 6,
   "id": "aerial-lying",
   "metadata": {},
   "outputs": [],
   "source": [
    "model = WaveNet(quantization_bins=bins, kernel_size=kernel_size, channels=channels, dilation_depth=dilation_depth, blocks=blocks, condition_size=condition_size,\n",
    "                initial_cond_size=80,\n",
    "                global_condition=False, \n",
    "                local_condition=True, \n",
    "                use_bert=False)\n",
    "model = model.to(device)"
   ]
  },
  {
   "cell_type": "code",
   "execution_count": 7,
   "id": "retained-prerequisite",
   "metadata": {},
   "outputs": [
    {
     "name": "stdout",
     "output_type": "stream",
     "text": [
      "Trainable parameters: 10347136\n"
     ]
    }
   ],
   "source": [
    "print(\"Trainable parameters:\", sum(p.numel() for p in model.parameters() if p.requires_grad))"
   ]
  },
  {
   "cell_type": "code",
   "execution_count": 8,
   "id": "adjusted-mystery",
   "metadata": {},
   "outputs": [
    {
     "name": "stderr",
     "output_type": "stream",
     "text": [
      "Using cache found in /zhome/22/c/137477/.cache/torch/hub/nvidia_DeepLearningExamples_torchhub\n"
     ]
    },
    {
     "data": {
      "text/plain": [
       "Tacotron2(\n",
       "  (embedding): Embedding(148, 512)\n",
       "  (encoder): Encoder(\n",
       "    (convolutions): ModuleList(\n",
       "      (0): Sequential(\n",
       "        (0): ConvNorm(\n",
       "          (conv): Conv1d(512, 512, kernel_size=(5,), stride=(1,), padding=(2,))\n",
       "        )\n",
       "        (1): BatchNorm1d(512, eps=1e-05, momentum=0.1, affine=True, track_running_stats=True)\n",
       "      )\n",
       "      (1): Sequential(\n",
       "        (0): ConvNorm(\n",
       "          (conv): Conv1d(512, 512, kernel_size=(5,), stride=(1,), padding=(2,))\n",
       "        )\n",
       "        (1): BatchNorm1d(512, eps=1e-05, momentum=0.1, affine=True, track_running_stats=True)\n",
       "      )\n",
       "      (2): Sequential(\n",
       "        (0): ConvNorm(\n",
       "          (conv): Conv1d(512, 512, kernel_size=(5,), stride=(1,), padding=(2,))\n",
       "        )\n",
       "        (1): BatchNorm1d(512, eps=1e-05, momentum=0.1, affine=True, track_running_stats=True)\n",
       "      )\n",
       "    )\n",
       "    (lstm): LSTM(512, 256, batch_first=True, bidirectional=True)\n",
       "  )\n",
       "  (decoder): Decoder(\n",
       "    (prenet): Prenet(\n",
       "      (layers): ModuleList(\n",
       "        (0): LinearNorm(\n",
       "          (linear_layer): Linear(in_features=80, out_features=256, bias=False)\n",
       "        )\n",
       "        (1): LinearNorm(\n",
       "          (linear_layer): Linear(in_features=256, out_features=256, bias=False)\n",
       "        )\n",
       "      )\n",
       "    )\n",
       "    (attention_rnn): LSTMCell(768, 1024)\n",
       "    (attention_layer): Attention(\n",
       "      (query_layer): LinearNorm(\n",
       "        (linear_layer): Linear(in_features=1024, out_features=128, bias=False)\n",
       "      )\n",
       "      (memory_layer): LinearNorm(\n",
       "        (linear_layer): Linear(in_features=512, out_features=128, bias=False)\n",
       "      )\n",
       "      (v): LinearNorm(\n",
       "        (linear_layer): Linear(in_features=128, out_features=1, bias=False)\n",
       "      )\n",
       "      (location_layer): LocationLayer(\n",
       "        (location_conv): ConvNorm(\n",
       "          (conv): Conv1d(2, 32, kernel_size=(31,), stride=(1,), padding=(15,), bias=False)\n",
       "        )\n",
       "        (location_dense): LinearNorm(\n",
       "          (linear_layer): Linear(in_features=32, out_features=128, bias=False)\n",
       "        )\n",
       "      )\n",
       "    )\n",
       "    (decoder_rnn): LSTMCell(1536, 1024, bias=1)\n",
       "    (linear_projection): LinearNorm(\n",
       "      (linear_layer): Linear(in_features=1536, out_features=80, bias=True)\n",
       "    )\n",
       "    (gate_layer): LinearNorm(\n",
       "      (linear_layer): Linear(in_features=1536, out_features=1, bias=True)\n",
       "    )\n",
       "  )\n",
       "  (postnet): Postnet(\n",
       "    (convolutions): ModuleList(\n",
       "      (0): Sequential(\n",
       "        (0): ConvNorm(\n",
       "          (conv): Conv1d(80, 512, kernel_size=(5,), stride=(1,), padding=(2,))\n",
       "        )\n",
       "        (1): BatchNorm1d(512, eps=1e-05, momentum=0.1, affine=True, track_running_stats=True)\n",
       "      )\n",
       "      (1): Sequential(\n",
       "        (0): ConvNorm(\n",
       "          (conv): Conv1d(512, 512, kernel_size=(5,), stride=(1,), padding=(2,))\n",
       "        )\n",
       "        (1): BatchNorm1d(512, eps=1e-05, momentum=0.1, affine=True, track_running_stats=True)\n",
       "      )\n",
       "      (2): Sequential(\n",
       "        (0): ConvNorm(\n",
       "          (conv): Conv1d(512, 512, kernel_size=(5,), stride=(1,), padding=(2,))\n",
       "        )\n",
       "        (1): BatchNorm1d(512, eps=1e-05, momentum=0.1, affine=True, track_running_stats=True)\n",
       "      )\n",
       "      (3): Sequential(\n",
       "        (0): ConvNorm(\n",
       "          (conv): Conv1d(512, 512, kernel_size=(5,), stride=(1,), padding=(2,))\n",
       "        )\n",
       "        (1): BatchNorm1d(512, eps=1e-05, momentum=0.1, affine=True, track_running_stats=True)\n",
       "      )\n",
       "      (4): Sequential(\n",
       "        (0): ConvNorm(\n",
       "          (conv): Conv1d(512, 80, kernel_size=(5,), stride=(1,), padding=(2,))\n",
       "        )\n",
       "        (1): BatchNorm1d(80, eps=1e-05, momentum=0.1, affine=True, track_running_stats=True)\n",
       "      )\n",
       "    )\n",
       "  )\n",
       ")"
      ]
     },
     "execution_count": 8,
     "metadata": {},
     "output_type": "execute_result"
    }
   ],
   "source": [
    "tacotron2 = torch.hub.load('nvidia/DeepLearningExamples:torchhub', 'nvidia_tacotron2')\n",
    "tacotron2 = tacotron2.to('cuda')\n",
    "tacotron2.eval()"
   ]
  },
  {
   "cell_type": "code",
   "execution_count": 9,
   "id": "verbal-circular",
   "metadata": {},
   "outputs": [],
   "source": [
    "@torch.no_grad()\n",
    "def get_tacotron_spectrogram(transcript):\n",
    "    sequence = tacotron2.text_to_sequence(transcript, ['english_cleaners'])\n",
    "    sequence = torch.tensor([sequence], device=device, dtype=torch.int64)\n",
    "    _, mel, _, _ = tacotron2.infer(sequence)\n",
    "    return mel"
   ]
  },
  {
   "cell_type": "code",
   "execution_count": 10,
   "id": "moral-tumor",
   "metadata": {},
   "outputs": [],
   "source": [
    "chkpt = torch.load('LJ_speech_WaveNet-Tacotron2_05-05-2021-seq_L4000-bins128-batch44-C256-k2-dil9b2-cs256-sp_freq4000.pt')"
   ]
  },
  {
   "cell_type": "code",
   "execution_count": 11,
   "id": "visible-fabric",
   "metadata": {},
   "outputs": [
    {
     "data": {
      "text/plain": [
       "WaveNet(\n",
       "  (causal_layers): ModuleList(\n",
       "    (0): ResidualLayer(\n",
       "      (conv_fg): Conv1d(256, 512, kernel_size=(2,), stride=(1,))\n",
       "      (conv_1x1): Conv1d(256, 256, kernel_size=(1,), stride=(1,))\n",
       "      (lc_layer_fg): Conv1d(256, 512, kernel_size=(1,), stride=(1,))\n",
       "    )\n",
       "    (1): ResidualLayer(\n",
       "      (conv_fg): Conv1d(256, 512, kernel_size=(2,), stride=(1,), dilation=(2,))\n",
       "      (conv_1x1): Conv1d(256, 256, kernel_size=(1,), stride=(1,))\n",
       "      (lc_layer_fg): Conv1d(256, 512, kernel_size=(1,), stride=(1,))\n",
       "    )\n",
       "    (2): ResidualLayer(\n",
       "      (conv_fg): Conv1d(256, 512, kernel_size=(2,), stride=(1,), dilation=(4,))\n",
       "      (conv_1x1): Conv1d(256, 256, kernel_size=(1,), stride=(1,))\n",
       "      (lc_layer_fg): Conv1d(256, 512, kernel_size=(1,), stride=(1,))\n",
       "    )\n",
       "    (3): ResidualLayer(\n",
       "      (conv_fg): Conv1d(256, 512, kernel_size=(2,), stride=(1,), dilation=(8,))\n",
       "      (conv_1x1): Conv1d(256, 256, kernel_size=(1,), stride=(1,))\n",
       "      (lc_layer_fg): Conv1d(256, 512, kernel_size=(1,), stride=(1,))\n",
       "    )\n",
       "    (4): ResidualLayer(\n",
       "      (conv_fg): Conv1d(256, 512, kernel_size=(2,), stride=(1,), dilation=(16,))\n",
       "      (conv_1x1): Conv1d(256, 256, kernel_size=(1,), stride=(1,))\n",
       "      (lc_layer_fg): Conv1d(256, 512, kernel_size=(1,), stride=(1,))\n",
       "    )\n",
       "    (5): ResidualLayer(\n",
       "      (conv_fg): Conv1d(256, 512, kernel_size=(2,), stride=(1,), dilation=(32,))\n",
       "      (conv_1x1): Conv1d(256, 256, kernel_size=(1,), stride=(1,))\n",
       "      (lc_layer_fg): Conv1d(256, 512, kernel_size=(1,), stride=(1,))\n",
       "    )\n",
       "    (6): ResidualLayer(\n",
       "      (conv_fg): Conv1d(256, 512, kernel_size=(2,), stride=(1,), dilation=(64,))\n",
       "      (conv_1x1): Conv1d(256, 256, kernel_size=(1,), stride=(1,))\n",
       "      (lc_layer_fg): Conv1d(256, 512, kernel_size=(1,), stride=(1,))\n",
       "    )\n",
       "    (7): ResidualLayer(\n",
       "      (conv_fg): Conv1d(256, 512, kernel_size=(2,), stride=(1,), dilation=(128,))\n",
       "      (conv_1x1): Conv1d(256, 256, kernel_size=(1,), stride=(1,))\n",
       "      (lc_layer_fg): Conv1d(256, 512, kernel_size=(1,), stride=(1,))\n",
       "    )\n",
       "    (8): ResidualLayer(\n",
       "      (conv_fg): Conv1d(256, 512, kernel_size=(2,), stride=(1,), dilation=(256,))\n",
       "      (conv_1x1): Conv1d(256, 256, kernel_size=(1,), stride=(1,))\n",
       "      (lc_layer_fg): Conv1d(256, 512, kernel_size=(1,), stride=(1,))\n",
       "    )\n",
       "    (9): ResidualLayer(\n",
       "      (conv_fg): Conv1d(256, 512, kernel_size=(2,), stride=(1,))\n",
       "      (conv_1x1): Conv1d(256, 256, kernel_size=(1,), stride=(1,))\n",
       "      (lc_layer_fg): Conv1d(256, 512, kernel_size=(1,), stride=(1,))\n",
       "    )\n",
       "    (10): ResidualLayer(\n",
       "      (conv_fg): Conv1d(256, 512, kernel_size=(2,), stride=(1,), dilation=(2,))\n",
       "      (conv_1x1): Conv1d(256, 256, kernel_size=(1,), stride=(1,))\n",
       "      (lc_layer_fg): Conv1d(256, 512, kernel_size=(1,), stride=(1,))\n",
       "    )\n",
       "    (11): ResidualLayer(\n",
       "      (conv_fg): Conv1d(256, 512, kernel_size=(2,), stride=(1,), dilation=(4,))\n",
       "      (conv_1x1): Conv1d(256, 256, kernel_size=(1,), stride=(1,))\n",
       "      (lc_layer_fg): Conv1d(256, 512, kernel_size=(1,), stride=(1,))\n",
       "    )\n",
       "    (12): ResidualLayer(\n",
       "      (conv_fg): Conv1d(256, 512, kernel_size=(2,), stride=(1,), dilation=(8,))\n",
       "      (conv_1x1): Conv1d(256, 256, kernel_size=(1,), stride=(1,))\n",
       "      (lc_layer_fg): Conv1d(256, 512, kernel_size=(1,), stride=(1,))\n",
       "    )\n",
       "    (13): ResidualLayer(\n",
       "      (conv_fg): Conv1d(256, 512, kernel_size=(2,), stride=(1,), dilation=(16,))\n",
       "      (conv_1x1): Conv1d(256, 256, kernel_size=(1,), stride=(1,))\n",
       "      (lc_layer_fg): Conv1d(256, 512, kernel_size=(1,), stride=(1,))\n",
       "    )\n",
       "    (14): ResidualLayer(\n",
       "      (conv_fg): Conv1d(256, 512, kernel_size=(2,), stride=(1,), dilation=(32,))\n",
       "      (conv_1x1): Conv1d(256, 256, kernel_size=(1,), stride=(1,))\n",
       "      (lc_layer_fg): Conv1d(256, 512, kernel_size=(1,), stride=(1,))\n",
       "    )\n",
       "    (15): ResidualLayer(\n",
       "      (conv_fg): Conv1d(256, 512, kernel_size=(2,), stride=(1,), dilation=(64,))\n",
       "      (conv_1x1): Conv1d(256, 256, kernel_size=(1,), stride=(1,))\n",
       "      (lc_layer_fg): Conv1d(256, 512, kernel_size=(1,), stride=(1,))\n",
       "    )\n",
       "    (16): ResidualLayer(\n",
       "      (conv_fg): Conv1d(256, 512, kernel_size=(2,), stride=(1,), dilation=(128,))\n",
       "      (conv_1x1): Conv1d(256, 256, kernel_size=(1,), stride=(1,))\n",
       "      (lc_layer_fg): Conv1d(256, 512, kernel_size=(1,), stride=(1,))\n",
       "    )\n",
       "    (17): ResidualLayer(\n",
       "      (conv_fg): Conv1d(256, 512, kernel_size=(2,), stride=(1,), dilation=(256,))\n",
       "      (conv_1x1): Conv1d(256, 256, kernel_size=(1,), stride=(1,))\n",
       "      (lc_layer_fg): Conv1d(256, 512, kernel_size=(1,), stride=(1,))\n",
       "    )\n",
       "  )\n",
       "  (sentence_embedding): SentenceEmbedding(\n",
       "    (transposed_convs): Sequential(\n",
       "      (0): ConvTranspose1d(80, 256, kernel_size=(8,), stride=(4,))\n",
       "      (1): ReLU()\n",
       "      (2): ConvTranspose1d(256, 256, kernel_size=(8,), stride=(4,))\n",
       "      (3): ReLU()\n",
       "      (4): ConvTranspose1d(256, 256, kernel_size=(8,), stride=(4,))\n",
       "      (5): ReLU()\n",
       "      (6): ConvTranspose1d(256, 256, kernel_size=(8,), stride=(4,))\n",
       "      (7): ReLU()\n",
       "    )\n",
       "  )\n",
       "  (input_embedding): Embedding(128, 256)\n",
       "  (pre_process_conv): Conv1d(256, 256, kernel_size=(1,), stride=(1,))\n",
       "  (lc_initial): Sequential(\n",
       "    (0): Conv1d(256, 256, kernel_size=(1,), stride=(1,))\n",
       "    (1): ReLU()\n",
       "    (2): Conv1d(256, 256, kernel_size=(1,), stride=(1,))\n",
       "    (3): ReLU()\n",
       "  )\n",
       "  (post_process_conv1): Conv1d(256, 256, kernel_size=(1,), stride=(1,))\n",
       "  (post_process_conv2): Conv1d(256, 128, kernel_size=(1,), stride=(1,))\n",
       ")"
      ]
     },
     "execution_count": 11,
     "metadata": {},
     "output_type": "execute_result"
    }
   ],
   "source": [
    "model.load_state_dict(chkpt['model'])\n",
    "model.eval()"
   ]
  },
  {
   "cell_type": "code",
   "execution_count": 12,
   "id": "domestic-guitar",
   "metadata": {},
   "outputs": [],
   "source": [
    "def split_line(line):\n",
    "    idx = line.split(\" \")[0]\n",
    "    trans = line[len(idx)+1:].rstrip()\n",
    "    return idx, trans\n",
    "\n",
    "with open('LibriSpeech/wavenet-cut.txt') as f:\n",
    "    lines = [split_line(l) for l in f.readlines()]\n",
    "\n",
    "trans_dict = dict(lines)"
   ]
  },
  {
   "cell_type": "code",
   "execution_count": 13,
   "id": "liberal-chambers",
   "metadata": {},
   "outputs": [],
   "source": [
    "files = list([f for f in glob(f'LibriSpeech/test-clean/**/*.flac', recursive=True) if os.path.splitext(os.path.basename(f))[0] in trans_dict])"
   ]
  },
  {
   "cell_type": "code",
   "execution_count": 14,
   "id": "emerging-mailman",
   "metadata": {},
   "outputs": [],
   "source": [
    "save_path = 'LibriSpeech/wavenet-tacotron2'"
   ]
  },
  {
   "cell_type": "code",
   "execution_count": 15,
   "id": "likely-chrome",
   "metadata": {},
   "outputs": [],
   "source": [
    "def chunks(lst, n):\n",
    "    \"\"\"Yield successive n-sized chunks from lst.\"\"\"\n",
    "    for i in range(0, len(lst), n):\n",
    "        yield lst[i:i + n]"
   ]
  },
  {
   "cell_type": "code",
   "execution_count": 16,
   "id": "signed-quarterly",
   "metadata": {},
   "outputs": [],
   "source": [
    "@torch.no_grad()\n",
    "def synthesize(transcripts, waveform_sizes, model, tokenizer, device, seed=None, temperature=1.0):\n",
    "    T = max(waveform_sizes)\n",
    "    #Tokenize the transcript with the BERT tokenizer\n",
    "    with torch.no_grad():\n",
    "        model.eval()\n",
    "        #Feed into sentence embedding class\n",
    "        lc_embeds = []\n",
    "        for transcript in transcripts:\n",
    "            _, lc_embed = model.sentence_embedding(get_tacotron_spectrogram(transcript))\n",
    "\n",
    "            #Interpolate the locally conditioned signal from BERT so it fits with the waveform size and then trim the same portion of the signal as for the waveform.\n",
    "            lc_embed = F.interpolate(lc_embed, size=T)\n",
    "            lc_embeds.append(lc_embed)\n",
    "        lc_embed = torch.cat(lc_embeds,0)\n",
    "        lc_embed = F.pad(lc_embed, (model.receptive_field,0))\n",
    "\n",
    "        rec_fld = model.receptive_field + 1\n",
    "\n",
    "        if seed is not None:\n",
    "            seed_T = seed.size(1)\n",
    "        else:\n",
    "            seed_T = 0\n",
    "    \n",
    "        generated = (torch.ones((len(transcripts),rec_fld+T), device=device, dtype=torch.int64)*torchaudio.transforms.MuLawEncoding(model.bins)(torch.tensor(0.0)).item())\n",
    "        if seed is not None:\n",
    "            generated[:, :seed_T] = seed\n",
    "        with tqdm(range(seed_T if seed_T is not None else 0,T)) as t_bar:\n",
    "            for n in t_bar:\n",
    "                predictions = model(generated[:,n:rec_fld+n], lc=lc_embed[:,:,n:rec_fld+n], gc=None)\n",
    "                predictions = torch.softmax(predictions/temperature, dim=1)\n",
    "                generated[:,n+rec_fld] = torch.multinomial(predictions.squeeze(), 1).squeeze()\n",
    "    generated = generated[:, rec_fld:]\n",
    "    return generated"
   ]
  },
  {
   "cell_type": "code",
   "execution_count": null,
   "id": "antique-distance",
   "metadata": {},
   "outputs": [
    {
     "data": {
      "application/vnd.jupyter.widget-view+json": {
       "model_id": "9670e5f1b1c74fb3ae669553c1776af8",
       "version_major": 2,
       "version_minor": 0
      },
      "text/plain": [
       "  0%|          | 0/21 [00:00<?, ?it/s]"
      ]
     },
     "metadata": {},
     "output_type": "display_data"
    },
    {
     "name": "stdout",
     "output_type": "stream",
     "text": [
      "Warning! Reached max decoder steps\n",
      "Warning! Reached max decoder steps\n",
      "Warning! Reached max decoder steps\n",
      "Warning! Reached max decoder steps\n",
      "Warning! Reached max decoder steps\n",
      "Warning! Reached max decoder steps\n",
      "Warning! Reached max decoder steps\n",
      "Warning! Reached max decoder steps\n",
      "Warning! Reached max decoder steps\n",
      "Warning! Reached max decoder steps\n",
      "Warning! Reached max decoder steps\n",
      "Warning! Reached max decoder steps\n"
     ]
    },
    {
     "data": {
      "application/vnd.jupyter.widget-view+json": {
       "model_id": "f2cccd653b8d47a48b1f956e13874ccf",
       "version_major": 2,
       "version_minor": 0
      },
      "text/plain": [
       "  0%|          | 0/114300 [00:00<?, ?it/s]"
      ]
     },
     "metadata": {},
     "output_type": "display_data"
    },
    {
     "name": "stdout",
     "output_type": "stream",
     "text": [
      "Warning! Reached max decoder steps\n",
      "Warning! Reached max decoder steps\n",
      "Warning! Reached max decoder steps\n",
      "Warning! Reached max decoder steps\n",
      "Warning! Reached max decoder steps\n",
      "Warning! Reached max decoder steps\n",
      "Warning! Reached max decoder steps\n"
     ]
    },
    {
     "data": {
      "application/vnd.jupyter.widget-view+json": {
       "model_id": "4fe0d668c50f4a28b84cff4ee90dcc8c",
       "version_major": 2,
       "version_minor": 0
      },
      "text/plain": [
       "  0%|          | 0/93341 [00:00<?, ?it/s]"
      ]
     },
     "metadata": {},
     "output_type": "display_data"
    },
    {
     "name": "stdout",
     "output_type": "stream",
     "text": [
      "Warning! Reached max decoder steps\n",
      "Warning! Reached max decoder steps\n",
      "Warning! Reached max decoder steps\n",
      "Warning! Reached max decoder steps\n",
      "Warning! Reached max decoder steps\n",
      "Warning! Reached max decoder steps\n",
      "Warning! Reached max decoder steps\n",
      "Warning! Reached max decoder steps\n",
      "Warning! Reached max decoder steps\n",
      "Warning! Reached max decoder steps\n",
      "Warning! Reached max decoder steps\n",
      "Warning! Reached max decoder steps\n",
      "Warning! Reached max decoder steps\n",
      "Warning! Reached max decoder steps\n",
      "Warning! Reached max decoder steps\n",
      "Warning! Reached max decoder steps\n"
     ]
    },
    {
     "data": {
      "application/vnd.jupyter.widget-view+json": {
       "model_id": "3fda7519716f412d9360d415bc701df4",
       "version_major": 2,
       "version_minor": 0
      },
      "text/plain": [
       "  0%|          | 0/104460 [00:00<?, ?it/s]"
      ]
     },
     "metadata": {},
     "output_type": "display_data"
    }
   ],
   "source": [
    "for f_chunk in tqdm(list(chunks(files, 48))):\n",
    "    ids = [os.path.splitext(os.path.basename(f))[0] for f in f_chunk]\n",
    "    transcripts = [trans_dict[idx] for idx in ids]\n",
    "    waveform_sizes = []\n",
    "    for f in f_chunk:\n",
    "        waveform, sample_rate = torchaudio.load(f)\n",
    "        waveform = Resample(waveform)\n",
    "        waveform_sizes.append(waveform.size(1))\n",
    "    generated = synthesize(transcripts, waveform_sizes, model, tokenizer, device, temperature=1.0)\n",
    "    for idx, gen, size in zip(ids, generated, waveform_sizes):\n",
    "        torchaudio.save(f'{save_path}/{idx}.wav', MuLawDecoding(gen[:size].cpu().long()).unsqueeze(0), sample_rate=sp_freq)"
   ]
  },
  {
   "cell_type": "code",
   "execution_count": null,
   "id": "seeing-evolution",
   "metadata": {},
   "outputs": [],
   "source": []
  }
 ],
 "metadata": {
  "kernelspec": {
   "display_name": "Python 3",
   "language": "python",
   "name": "python3"
  },
  "language_info": {
   "codemirror_mode": {
    "name": "ipython",
    "version": 3
   },
   "file_extension": ".py",
   "mimetype": "text/x-python",
   "name": "python",
   "nbconvert_exporter": "python",
   "pygments_lexer": "ipython3",
   "version": "3.8.2"
  }
 },
 "nbformat": 4,
 "nbformat_minor": 5
}
