{
 "cells": [
  {
   "cell_type": "code",
   "execution_count": 1,
   "id": "formal-hopkins",
   "metadata": {},
   "outputs": [
    {
     "name": "stdout",
     "output_type": "stream",
     "text": [
      "Mon May  3 09:23:34 2021       \n",
      "+-----------------------------------------------------------------------------+\n",
      "| NVIDIA-SMI 465.19.01    Driver Version: 465.19.01    CUDA Version: 11.3     |\n",
      "|-------------------------------+----------------------+----------------------+\n",
      "| GPU  Name        Persistence-M| Bus-Id        Disp.A | Volatile Uncorr. ECC |\n",
      "| Fan  Temp  Perf  Pwr:Usage/Cap|         Memory-Usage | GPU-Util  Compute M. |\n",
      "|                               |                      |               MIG M. |\n",
      "|===============================+======================+======================|\n",
      "|   0  NVIDIA A100-PCI...  Off  | 00000000:37:00.0 Off |                    0 |\n",
      "| N/A   49C    P0    38W / 250W |  18444MiB / 40536MiB |      0%      Default |\n",
      "|                               |                      |             Disabled |\n",
      "+-------------------------------+----------------------+----------------------+\n",
      "|   1  NVIDIA A100-PCI...  Off  | 00000000:86:00.0 Off |                    0 |\n",
      "| N/A   62C    P0    67W / 250W |      3MiB / 40536MiB |     38%      Default |\n",
      "|                               |                      |             Disabled |\n",
      "+-------------------------------+----------------------+----------------------+\n",
      "                                                                               \n",
      "+-----------------------------------------------------------------------------+\n",
      "| Processes:                                                                  |\n",
      "|  GPU   GI   CI        PID   Type   Process name                  GPU Memory |\n",
      "|        ID   ID                                                   Usage      |\n",
      "|=============================================================================|\n",
      "|    0   N/A  N/A     32018      C   .../python/3.8.5/bin/python3    18441MiB |\n",
      "+-----------------------------------------------------------------------------+\n",
      "env: CUDA_VISIBLE_DEVICES=1\n"
     ]
    },
    {
     "data": {
      "text/plain": [
       "'1'"
      ]
     },
     "execution_count": 1,
     "metadata": {},
     "output_type": "execute_result"
    }
   ],
   "source": [
    "!nvidia-smi\n",
    "%env CUDA_VISIBLE_DEVICES=1\n",
    "%env CUDA_VISIBLE_DEVICES"
   ]
  },
  {
   "cell_type": "code",
   "execution_count": 2,
   "id": "compound-generation",
   "metadata": {},
   "outputs": [
    {
     "data": {
      "text/html": [
       "<style>.container { width:100% !important; }</style>"
      ],
      "text/plain": [
       "<IPython.core.display.HTML object>"
      ]
     },
     "metadata": {},
     "output_type": "display_data"
    }
   ],
   "source": [
    "from IPython.core.display import display, HTML\n",
    "display(HTML(\"<style>.container { width:100% !important; }</style>\"))"
   ]
  },
  {
   "cell_type": "code",
   "execution_count": 3,
   "id": "raising-black",
   "metadata": {},
   "outputs": [
    {
     "data": {
      "text/plain": [
       "device(type='cuda')"
      ]
     },
     "execution_count": 3,
     "metadata": {},
     "output_type": "execute_result"
    }
   ],
   "source": [
    "import torchaudio\n",
    "import torch\n",
    "import torch.nn.functional as F\n",
    "import torch.nn as nn\n",
    "from tqdm import tqdm\n",
    "from datetime import datetime\n",
    "import numpy as np\n",
    "from WaveNetTTS.model import WaveNet\n",
    "import os\n",
    "import sys\n",
    "import random\n",
    "device = torch.device('cuda' if torch.cuda.is_available() else 'cpu')\n",
    "device"
   ]
  },
  {
   "cell_type": "code",
   "execution_count": 4,
   "id": "protected-forty",
   "metadata": {},
   "outputs": [
    {
     "name": "stderr",
     "output_type": "stream",
     "text": [
      "Using cache found in /zhome/22/c/137477/.cache/torch/hub/nvidia_DeepLearningExamples_torchhub\n"
     ]
    },
    {
     "data": {
      "text/plain": [
       "Tacotron2(\n",
       "  (embedding): Embedding(148, 512)\n",
       "  (encoder): Encoder(\n",
       "    (convolutions): ModuleList(\n",
       "      (0): Sequential(\n",
       "        (0): ConvNorm(\n",
       "          (conv): Conv1d(512, 512, kernel_size=(5,), stride=(1,), padding=(2,))\n",
       "        )\n",
       "        (1): BatchNorm1d(512, eps=1e-05, momentum=0.1, affine=True, track_running_stats=True)\n",
       "      )\n",
       "      (1): Sequential(\n",
       "        (0): ConvNorm(\n",
       "          (conv): Conv1d(512, 512, kernel_size=(5,), stride=(1,), padding=(2,))\n",
       "        )\n",
       "        (1): BatchNorm1d(512, eps=1e-05, momentum=0.1, affine=True, track_running_stats=True)\n",
       "      )\n",
       "      (2): Sequential(\n",
       "        (0): ConvNorm(\n",
       "          (conv): Conv1d(512, 512, kernel_size=(5,), stride=(1,), padding=(2,))\n",
       "        )\n",
       "        (1): BatchNorm1d(512, eps=1e-05, momentum=0.1, affine=True, track_running_stats=True)\n",
       "      )\n",
       "    )\n",
       "    (lstm): LSTM(512, 256, batch_first=True, bidirectional=True)\n",
       "  )\n",
       "  (decoder): Decoder(\n",
       "    (prenet): Prenet(\n",
       "      (layers): ModuleList(\n",
       "        (0): LinearNorm(\n",
       "          (linear_layer): Linear(in_features=80, out_features=256, bias=False)\n",
       "        )\n",
       "        (1): LinearNorm(\n",
       "          (linear_layer): Linear(in_features=256, out_features=256, bias=False)\n",
       "        )\n",
       "      )\n",
       "    )\n",
       "    (attention_rnn): LSTMCell(768, 1024)\n",
       "    (attention_layer): Attention(\n",
       "      (query_layer): LinearNorm(\n",
       "        (linear_layer): Linear(in_features=1024, out_features=128, bias=False)\n",
       "      )\n",
       "      (memory_layer): LinearNorm(\n",
       "        (linear_layer): Linear(in_features=512, out_features=128, bias=False)\n",
       "      )\n",
       "      (v): LinearNorm(\n",
       "        (linear_layer): Linear(in_features=128, out_features=1, bias=False)\n",
       "      )\n",
       "      (location_layer): LocationLayer(\n",
       "        (location_conv): ConvNorm(\n",
       "          (conv): Conv1d(2, 32, kernel_size=(31,), stride=(1,), padding=(15,), bias=False)\n",
       "        )\n",
       "        (location_dense): LinearNorm(\n",
       "          (linear_layer): Linear(in_features=32, out_features=128, bias=False)\n",
       "        )\n",
       "      )\n",
       "    )\n",
       "    (decoder_rnn): LSTMCell(1536, 1024, bias=1)\n",
       "    (linear_projection): LinearNorm(\n",
       "      (linear_layer): Linear(in_features=1536, out_features=80, bias=True)\n",
       "    )\n",
       "    (gate_layer): LinearNorm(\n",
       "      (linear_layer): Linear(in_features=1536, out_features=1, bias=True)\n",
       "    )\n",
       "  )\n",
       "  (postnet): Postnet(\n",
       "    (convolutions): ModuleList(\n",
       "      (0): Sequential(\n",
       "        (0): ConvNorm(\n",
       "          (conv): Conv1d(80, 512, kernel_size=(5,), stride=(1,), padding=(2,))\n",
       "        )\n",
       "        (1): BatchNorm1d(512, eps=1e-05, momentum=0.1, affine=True, track_running_stats=True)\n",
       "      )\n",
       "      (1): Sequential(\n",
       "        (0): ConvNorm(\n",
       "          (conv): Conv1d(512, 512, kernel_size=(5,), stride=(1,), padding=(2,))\n",
       "        )\n",
       "        (1): BatchNorm1d(512, eps=1e-05, momentum=0.1, affine=True, track_running_stats=True)\n",
       "      )\n",
       "      (2): Sequential(\n",
       "        (0): ConvNorm(\n",
       "          (conv): Conv1d(512, 512, kernel_size=(5,), stride=(1,), padding=(2,))\n",
       "        )\n",
       "        (1): BatchNorm1d(512, eps=1e-05, momentum=0.1, affine=True, track_running_stats=True)\n",
       "      )\n",
       "      (3): Sequential(\n",
       "        (0): ConvNorm(\n",
       "          (conv): Conv1d(512, 512, kernel_size=(5,), stride=(1,), padding=(2,))\n",
       "        )\n",
       "        (1): BatchNorm1d(512, eps=1e-05, momentum=0.1, affine=True, track_running_stats=True)\n",
       "      )\n",
       "      (4): Sequential(\n",
       "        (0): ConvNorm(\n",
       "          (conv): Conv1d(512, 80, kernel_size=(5,), stride=(1,), padding=(2,))\n",
       "        )\n",
       "        (1): BatchNorm1d(80, eps=1e-05, momentum=0.1, affine=True, track_running_stats=True)\n",
       "      )\n",
       "    )\n",
       "  )\n",
       ")"
      ]
     },
     "execution_count": 4,
     "metadata": {},
     "output_type": "execute_result"
    }
   ],
   "source": [
    "tacotron2 = torch.hub.load('nvidia/DeepLearningExamples:torchhub', 'nvidia_tacotron2')\n",
    "tacotron2 = tacotron2.to('cuda')\n",
    "tacotron2.eval()"
   ]
  },
  {
   "cell_type": "code",
   "execution_count": 5,
   "id": "requested-montgomery",
   "metadata": {},
   "outputs": [],
   "source": [
    "@torch.no_grad()\n",
    "def get_tacotron_spectrogram(transcript):\n",
    "    sequence = tacotron2.text_to_sequence(transcript, ['english_cleaners'])\n",
    "    sequence = torch.tensor([sequence], device=device, dtype=torch.int64)\n",
    "    _, mel, _, _ = tacotron2.infer(sequence)\n",
    "    return mel"
   ]
  },
  {
   "cell_type": "code",
   "execution_count": 6,
   "id": "sixth-disabled",
   "metadata": {},
   "outputs": [],
   "source": [
    "sp_freq = 4000\n",
    "seq_len = 4000\n",
    "bins = 128\n",
    "batch_size = 44\n",
    "channels = 256\n",
    "kernel_size = 2\n",
    "dilation_depth = 9\n",
    "blocks = 2\n",
    "condition_size = 256\n",
    "\n",
    "MuLawEncoding = torchaudio.transforms.MuLawEncoding(quantization_channels=bins)\n",
    "Resample = torchaudio.transforms.Resample(22050, sp_freq)\n",
    "\n",
    "hugging_face_model = 'bert-base-uncased'#'distilbert-base-uncased'#\n",
    "#tokenizer = torch.hub.load('huggingface/pytorch-transformers', 'tokenizer', hugging_face_model)"
   ]
  },
  {
   "cell_type": "code",
   "execution_count": 7,
   "id": "inclusive-colonial",
   "metadata": {},
   "outputs": [],
   "source": [
    "from torch.cuda.amp.grad_scaler import GradScaler\n",
    "from torch.cuda.amp.autocast_mode import autocast\n",
    "\n",
    "scaler = GradScaler()\n",
    "from transformers import AdamW\n",
    "\n",
    "model = WaveNet(quantization_bins=bins, kernel_size=kernel_size, channels=channels, dilation_depth=dilation_depth, blocks=blocks, condition_size=condition_size,\n",
    "                initial_cond_size=80,\n",
    "                global_condition=False, \n",
    "                local_condition=True, \n",
    "                use_bert=False)\n",
    "model = model.to(device)\n",
    "\n",
    "no_decay = ['bias', 'LayerNorm.weight']\n",
    "optimizer_grouped_parameters = [{\n",
    "    'params': [p for n, p in model.named_parameters() if not any(nd in n for nd in no_decay) and not 'bert' in n],\n",
    "    'weight_decay': 0.01,\n",
    "    'lr': 1e-4\n",
    "}, {\n",
    "    'params': [p for n, p in model.named_parameters() if any(nd in n for nd in no_decay) and not 'bert' in n],\n",
    "    'weight_decay': 0.0,\n",
    "    'lr': 1e-4\n",
    "}, {\n",
    "    'params': [p for n, p in model.named_parameters() if not any(nd in n for nd in no_decay) and 'bert' in n],\n",
    "    'weight_decay': 0.01,\n",
    "    'lr': 5e-5\n",
    "}, {\n",
    "    'params': [p for n, p in model.named_parameters() if any(nd in n for nd in no_decay) and 'bert' in n],\n",
    "    'weight_decay': 0.0,\n",
    "    'lr': 5e-5\n",
    "}]\n",
    "optim = AdamW(optimizer_grouped_parameters, correct_bias=False, eps=1e-8)\n",
    "\n",
    "criterion = torch.nn.CrossEntropyLoss()\n",
    "\n",
    "losses = []"
   ]
  },
  {
   "cell_type": "code",
   "execution_count": 8,
   "id": "referenced-burning",
   "metadata": {},
   "outputs": [
    {
     "name": "stdout",
     "output_type": "stream",
     "text": [
      "Trainable parameters: 10347136\n"
     ]
    }
   ],
   "source": [
    "print(\"Trainable parameters:\", sum(p.numel() for p in model.parameters() if p.requires_grad))"
   ]
  },
  {
   "cell_type": "code",
   "execution_count": 9,
   "id": "medieval-diary",
   "metadata": {},
   "outputs": [],
   "source": [
    "def collate_fn(batch_in):\n",
    "    y_true_out = []\n",
    "    gc_out = []\n",
    "    lc_out = []\n",
    "    for waveform, _, _, transcript in batch_in:\n",
    "        #Mu Law Encoding of waveform\n",
    "        y_true = MuLawEncoding(Resample(waveform[0])).to(device)\n",
    "        #Trim random segment of the waveform with length seq_len\n",
    "        random_idx = np.random.randint(len(y_true)-seq_len)\n",
    "        y_true_trim = y_true[random_idx:random_idx+seq_len]\n",
    "\n",
    "        y_true_out.append(y_true_trim)\n",
    "\n",
    "        #Feed into sentence embedding class\n",
    "        _, lc_embed = model.sentence_embedding(get_tacotron_spectrogram(transcript))\n",
    "\n",
    "        #Interpolate the locally conditioned signal from BERT so it fits with the waveform size and then trim the same portion of the signal as for the waveform.\n",
    "        lc_embed = F.interpolate(lc_embed, size=waveform.size(1))[:,:,random_idx:random_idx+seq_len]\n",
    "        lc_out.append(lc_embed)\n",
    "    return torch.stack(y_true_out,0), _, torch.cat(lc_out, 0)"
   ]
  },
  {
   "cell_type": "code",
   "execution_count": 10,
   "id": "cardiovascular-malaysia",
   "metadata": {},
   "outputs": [],
   "source": [
    "dataset = torchaudio.datasets.LJSPEECH('', download=False)\n",
    "dataloader = torch.utils.data.DataLoader(dataset, batch_size=batch_size, shuffle=True, collate_fn=collate_fn)"
   ]
  },
  {
   "cell_type": "code",
   "execution_count": null,
   "id": "enclosed-session",
   "metadata": {},
   "outputs": [
    {
     "name": "stderr",
     "output_type": "stream",
     "text": [
      " 56%|█████▌    | 167/298 [1:19:36<1:03:25, 29.05s/it, Loss: 2.613783836364746, Receptive Field: 1022, Learned Size: 2978] "
     ]
    },
    {
     "name": "stdout",
     "output_type": "stream",
     "text": [
      "Warning! Reached max decoder steps\n"
     ]
    },
    {
     "name": "stderr",
     "output_type": "stream",
     "text": [
      " 92%|█████████▏| 274/298 [2:09:07<11:33, 28.88s/it, Loss: 2.576012372970581, Receptive Field: 1022, Learned Size: 2978]   "
     ]
    },
    {
     "name": "stdout",
     "output_type": "stream",
     "text": [
      "Warning! Reached max decoder steps\n"
     ]
    },
    {
     "name": "stderr",
     "output_type": "stream",
     "text": [
      "100%|██████████| 298/298 [2:19:56<00:00, 28.18s/it, Loss: 2.660460948944092, Receptive Field: 1022, Learned Size: 2978] \n",
      "100%|██████████| 298/298 [2:22:25<00:00, 28.68s/it, Loss: 2.3964781761169434, Receptive Field: 1022, Learned Size: 2978]  \n",
      "100%|██████████| 298/298 [2:22:36<00:00, 28.71s/it, Loss: 2.4150919914245605, Receptive Field: 1022, Learned Size: 2978]  \n",
      " 11%|█         | 32/298 [15:23<2:08:05, 28.89s/it, Loss: 2.2835912704467773, Receptive Field: 1022, Learned Size: 2978]"
     ]
    }
   ],
   "source": [
    "model.train()\n",
    "try:\n",
    "    while True:\n",
    "        with tqdm(iter(dataloader)) as t_bar:\n",
    "            for y_true, gc, lc in t_bar:\n",
    "                optim.zero_grad()\n",
    "\n",
    "                y_true, lc = y_true.to(device), lc.to(device)\n",
    "                # Model predictions\n",
    "                y_preds = model(y_true, lc=lc)\n",
    "\n",
    "                # Calculates loss. The whole indexation show is just to align predictions with the true values.\n",
    "                loss = criterion(y_preds[:, :, :-1], y_true[:, -y_preds.size(2)+1:])\n",
    "\n",
    "\n",
    "                #scaler.scale(loss).backward()\n",
    "                #scaler.step(optim)\n",
    "                #scaler.update()\n",
    "\n",
    "                loss.backward()\n",
    "                optim.step()\n",
    "\n",
    "                # Updates\n",
    "                losses.append(loss.item())\n",
    "\n",
    "\n",
    "                t_bar.set_postfix_str(f'Loss: {loss.item()}, Receptive Field: {model.receptive_field}, Learned Size: {y_preds.size(2)}')\n",
    "        torch.save({'model':model.state_dict(), 'optim':optim.state_dict()}, f'LJ_speech_WaveNet-Tacotron2_{datetime.now().strftime(\"%d-%m-%Y\")}-seq_L{seq_len}-bins{bins}-batch{batch_size}-C{channels}-k{kernel_size}-dil{dilation_depth}b{blocks}-cs{condition_size}-sp_freq{sp_freq}.pt')\n",
    "except E:\n",
    "    with open('ERROR.txt','w+') as f:\n",
    "        print(f'{E} : {E.__class__} : {sys.exc_info()}', file=f)"
   ]
  }
 ],
 "metadata": {
  "kernelspec": {
   "display_name": "Python 3",
   "language": "python",
   "name": "python3"
  },
  "language_info": {
   "codemirror_mode": {
    "name": "ipython",
    "version": 3
   },
   "file_extension": ".py",
   "mimetype": "text/x-python",
   "name": "python",
   "nbconvert_exporter": "python",
   "pygments_lexer": "ipython3",
   "version": "3.8.2"
  }
 },
 "nbformat": 4,
 "nbformat_minor": 5
}
