{
 "cells": [
  {
   "cell_type": "code",
   "execution_count": null,
   "id": "anonymous-sewing",
   "metadata": {},
   "outputs": [],
   "source": [
    "import torch\n",
    "import torch.nn as nn\n",
    "import torch.nn.functional as F\n",
    "import matplotlib.pyplot as plt\n",
    "import torchaudio\n",
    "import numpy as np\n",
    "import seaborn; seaborn.set_style(\"darkgrid\")\n",
    "from tqdm.notebook import tqdm"
   ]
  },
  {
   "cell_type": "markdown",
   "id": "incomplete-passenger",
   "metadata": {},
   "source": [
    "# Control panel:"
   ]
  },
  {
   "cell_type": "code",
   "execution_count": null,
   "id": "institutional-margin",
   "metadata": {},
   "outputs": [],
   "source": [
    "# Define hyper-parameters\n",
    "batch_size = 10\n",
    "learning_rate = 0.005\n",
    "training_iterations = 200\n",
    "dilation_depth = 6\n",
    "sample_length = 100\n",
    "generate_length = 2 * sample_length\n",
    "bins = 20"
   ]
  },
  {
   "cell_type": "markdown",
   "id": "whole-green",
   "metadata": {},
   "source": [
    "# Model:"
   ]
  },
  {
   "cell_type": "code",
   "execution_count": null,
   "id": "yellow-shareware",
   "metadata": {},
   "outputs": [],
   "source": [
    "class Wavenet(nn.Module):\n",
    "    def __init__(self, quantization_bins, channels, dilation_depth, blocks):\n",
    "        super(Wavenet, self).__init__()\n",
    "\n",
    "        \"\"\" Part 1: Define model parameters \"\"\"\"\"\n",
    "        self.C = channels\n",
    "        self.kernel_size = 2\n",
    "        self.bins = quantization_bins\n",
    "        self.dilations = [2 ** i for i in range(dilation_depth)] * blocks\n",
    "\n",
    "        \"\"\" Part 2: Define model layers \"\"\"\n",
    "        self.pre_process_conv = nn.Conv1d(in_channels=self.bins, out_channels=self.C, kernel_size=1)\n",
    "        self.causal_layers = nn.ModuleList()\n",
    "\n",
    "        for d in self.dilations:\n",
    "            self.causal_layers.append(ResidalLayer(in_channels=self.C, out_channels=self.C, dilation=d, kernel_size=self.kernel_size))\n",
    "\n",
    "        self.post_process_conv1 = nn.Conv1d(self.C, self.C, kernel_size=1)\n",
    "        self.post_process_conv2 = nn.Conv1d(self.C, self.bins, kernel_size=1)\n",
    "\n",
    "    def forward(self, x):\n",
    "        \"\"\" Function: Makes the forward pass/model prediction\n",
    "            Input: Mu- and one-hot-encoded waveform. The shape of the input is (batch_size, quantization_bins, samples).\n",
    "                   It is important that 'x' has at least the length of the models receptive field.\n",
    "            Output: Distribution for prediction of next sample. Shape (batch_size, quantization_bins, what's left after\n",
    "                    dilation, should be 1 at inference) \"\"\"\n",
    "\n",
    "        \"\"\" Part 1: Through pre-processing layer \"\"\"\n",
    "        x = self.pre_process_conv(x)\n",
    "\n",
    "        \"\"\" Part 2: Through stack of dilated causal convolutions \"\"\"\n",
    "        skips, skip = [], None\n",
    "\n",
    "        for layer in self.causal_layers:\n",
    "            x, skip = layer(x)\n",
    "\n",
    "            # Save skip connection results\n",
    "            skips.append(skip)\n",
    "\n",
    "        \"\"\" Part 3: Post processes (-softmax) \"\"\"\n",
    "        # Add skip connections together\n",
    "        x = sum([s[:, :, -skip.size(2):] for s in skips])\n",
    "\n",
    "        # Do the rest of the preprocessing\n",
    "        x = F.relu(x)\n",
    "        x = self.post_process_conv1(x)  # shape --> (batch_size, channels, samples)\n",
    "        x = F.relu(x)\n",
    "        x = self.post_process_conv2(x)  # shape --> (batch_size, quantization_bins, samples)\n",
    "\n",
    "        return x"
   ]
  },
  {
   "cell_type": "code",
   "execution_count": null,
   "id": "removable-corps",
   "metadata": {},
   "outputs": [],
   "source": [
    "class ResidalLayer(nn.Module):\n",
    "    \"\"\" Class description: This class is a sub-model of a residual layer \"\"\"\n",
    "\n",
    "    def __init__(self, in_channels:int, out_channels:int, kernel_size:int, dilation:int):\n",
    "        super(ResidalLayer, self).__init__()\n",
    "\n",
    "        \"\"\" Part 1: Define model parameters \"\"\"\n",
    "        self.dilation = dilation\n",
    "\n",
    "        \"\"\" Part 2: Define model layers \"\"\"\n",
    "        # The original original WaveNet paper used a single shared 1x1 conv for both filter (f) and gate (g).\n",
    "        # Instead we use one for each here i.e. conv_f and conv_g.\n",
    "        self.conv_f = nn.Conv1d(in_channels, out_channels, kernel_size=kernel_size, dilation=dilation)\n",
    "        self.conv_g = nn.Conv1d(in_channels, out_channels, kernel_size=kernel_size, dilation=dilation)\n",
    "\n",
    "        # 1 shared 1x1 convolution\n",
    "        self.conv_1x1 = nn.Conv1d(out_channels, out_channels, kernel_size=1)\n",
    "\n",
    "    def forward(self, x):\n",
    "        # Send through gate\n",
    "        f = torch.tanh(self.conv_f(x))\n",
    "        g = torch.sigmoid(self.conv_g(x))\n",
    "        z = f * g\n",
    "\n",
    "        # Save for skip connection\n",
    "        skip = self.conv_1x1(z)\n",
    "\n",
    "        # Save residual as input to next layer residual layer\n",
    "        residual = x[:, :, self.dilation:] + skip\n",
    "\n",
    "        return residual, skip"
   ]
  },
  {
   "cell_type": "markdown",
   "id": "permanent-display",
   "metadata": {},
   "source": [
    "# Helper functions:"
   ]
  },
  {
   "cell_type": "code",
   "execution_count": null,
   "id": "hairy-chair",
   "metadata": {},
   "outputs": [],
   "source": [
    "def one_hot(input, bins=256):\n",
    "    \"\"\" Function: Makes a one-hot-encoding\n",
    "        :param input: tensor (batch_size, samples)\n",
    "        :param bins: quantization_bins\n",
    "        :return: tensor of shape (batch_size, samples, quantization_bins). \"\"\"\n",
    "\n",
    "    as_int64 = input.long()\n",
    "    one_hotted = F.one_hot(as_int64, num_classes=bins)\n",
    "    correct_dims = one_hotted.transpose(1,2)\n",
    "    as_float32 = correct_dims.float()\n",
    "\n",
    "    return as_float32\n",
    "\n",
    "def make_data(amount=128):\n",
    "    \"\"\" Function: Create randomly phase-shifted sinusoids \"\"\"\n",
    "\n",
    "    X = torch.linspace(0, 2 * np.pi, amount)\n",
    "\n",
    "    return torch.sin(X + 2*np.pi * torch.rand(1)).unsqueeze(0)"
   ]
  },
  {
   "cell_type": "markdown",
   "id": "circular-thing",
   "metadata": {},
   "source": [
    "# Generator:"
   ]
  },
  {
   "cell_type": "code",
   "execution_count": null,
   "id": "closed-vector",
   "metadata": {},
   "outputs": [],
   "source": [
    "def generate(seed: torch.tensor, amount: int, model, bins: int):\n",
    "    \"\"\" Function: Inefficinet - but intutitive - implemenetation of sample generation\n",
    "        :param seed: start the generation process, must be at least the size of the model's receptive field. Shape (1, samples)\n",
    "        :param amount: number of samples to generate\n",
    "        :return: list with [seed + generated_samples] \"\"\"\n",
    "\n",
    "    model.eval()\n",
    "    temp = seed[0].tolist()\n",
    "    next_point = -sum(model.dilations) - 1\n",
    "\n",
    "    for n in range(amount):\n",
    "        input = torch.tensor(temp[next_point:]).long()\n",
    "        input = one_hot(input.unsqueeze(0), bins)\n",
    "        predictions = model(input)\n",
    "        predictions = torch.softmax(predictions, dim=1)\n",
    "\n",
    "        max_index = torch.multinomial(predictions[0, :, 0], 1).squeeze()\n",
    "        temp.append(max_index.item())\n",
    "\n",
    "    return temp"
   ]
  },
  {
   "cell_type": "markdown",
   "id": "fatal-amendment",
   "metadata": {},
   "source": [
    "# Train and test:"
   ]
  },
  {
   "cell_type": "code",
   "execution_count": null,
   "id": "neural-midwest",
   "metadata": {},
   "outputs": [],
   "source": [
    "# Create model\n",
    "model = Wavenet(quantization_bins=bins, channels=32, dilation_depth=dilation_depth, blocks=1)\n",
    "model.train()\n",
    "\n",
    "# Mu law encoding\n",
    "mu = torchaudio.transforms.MuLawEncoding(quantization_channels=bins)\n",
    "\n",
    "# Optimizer and loss\n",
    "optim = torch.optim.Adam(model.parameters(), lr=learning_rate)\n",
    "criterion = torch.nn.CrossEntropyLoss()\n",
    "losses = []\n",
    "\n",
    "# Training loop\n",
    "for i in tqdm(range(training_iterations)):\n",
    "    # Create training data\n",
    "    raw_data = [make_data(sample_length) for _ in range(batch_size)]\n",
    "    raw_data = torch.cat(raw_data, dim=0)\n",
    "\n",
    "    # Mu-law- and one-hot-encode data\n",
    "    y_true = mu(raw_data)\n",
    "    x = one_hot(y_true, bins=bins)\n",
    "\n",
    "    # Prediction and loss\n",
    "    y_preds = model(x)\n",
    "    loss = criterion(y_preds[:, :, :-1], y_true[:, -y_preds.size(2)+1:])\n",
    "\n",
    "    # Updates\n",
    "    losses.append(loss.item())\n",
    "    loss.backward()\n",
    "    optim.step()\n",
    "    optim.zero_grad()"
   ]
  },
  {
   "cell_type": "markdown",
   "id": "damaged-singles",
   "metadata": {},
   "source": [
    "# Plot results:"
   ]
  },
  {
   "cell_type": "code",
   "execution_count": 1,
   "id": "dress-anger",
   "metadata": {},
   "outputs": [
    {
     "ename": "NameError",
     "evalue": "name 'plt' is not defined",
     "output_type": "error",
     "traceback": [
      "\u001b[1;31m---------------------------------------------------------------------------\u001b[0m",
      "\u001b[1;31mNameError\u001b[0m                                 Traceback (most recent call last)",
      "\u001b[1;32m<ipython-input-1-baed97cc5f39>\u001b[0m in \u001b[0;36m<module>\u001b[1;34m\u001b[0m\n\u001b[1;32m----> 1\u001b[1;33m \u001b[0m_\u001b[0m\u001b[1;33m,\u001b[0m \u001b[1;33m(\u001b[0m\u001b[0max1\u001b[0m\u001b[1;33m,\u001b[0m \u001b[0max2\u001b[0m\u001b[1;33m)\u001b[0m \u001b[1;33m=\u001b[0m \u001b[0mplt\u001b[0m\u001b[1;33m.\u001b[0m\u001b[0msubplots\u001b[0m\u001b[1;33m(\u001b[0m\u001b[1;36m2\u001b[0m\u001b[1;33m,\u001b[0m\u001b[1;36m1\u001b[0m\u001b[1;33m,\u001b[0m \u001b[0mfigsize\u001b[0m\u001b[1;33m=\u001b[0m\u001b[1;33m(\u001b[0m\u001b[1;36m12\u001b[0m\u001b[1;33m,\u001b[0m\u001b[1;36m8\u001b[0m\u001b[1;33m)\u001b[0m\u001b[1;33m)\u001b[0m\u001b[1;33m\u001b[0m\u001b[1;33m\u001b[0m\u001b[0m\n\u001b[0m\u001b[0;32m      2\u001b[0m \u001b[1;33m\u001b[0m\u001b[0m\n\u001b[0;32m      3\u001b[0m \u001b[0max1\u001b[0m\u001b[1;33m.\u001b[0m\u001b[0mplot\u001b[0m\u001b[1;33m(\u001b[0m\u001b[0mlosses\u001b[0m\u001b[1;33m,\u001b[0m \u001b[0mlabel\u001b[0m\u001b[1;33m=\u001b[0m\u001b[1;34m\"Cross entropy loss\"\u001b[0m\u001b[1;33m)\u001b[0m\u001b[1;33m\u001b[0m\u001b[1;33m\u001b[0m\u001b[0m\n\u001b[0;32m      4\u001b[0m \u001b[0max1\u001b[0m\u001b[1;33m.\u001b[0m\u001b[0mlegend\u001b[0m\u001b[1;33m(\u001b[0m\u001b[1;33m)\u001b[0m\u001b[1;33m\u001b[0m\u001b[1;33m\u001b[0m\u001b[0m\n\u001b[0;32m      5\u001b[0m \u001b[1;33m\u001b[0m\u001b[0m\n",
      "\u001b[1;31mNameError\u001b[0m: name 'plt' is not defined"
     ]
    }
   ],
   "source": [
    "_, (ax1, ax2) = plt.subplots(2,1, figsize=(12,8))\n",
    "\n",
    "ax1.plot(losses, label=\"Cross entropy loss\")\n",
    "ax1.legend()\n",
    "\n",
    "seed = mu(make_data(sample_length))\n",
    "gen = generate(seed=seed, amount=generate_length , model=model, bins=bins)\n",
    "ax2.plot(seed.squeeze(), '.-', label=\"Seed\")\n",
    "ax2.plot(np.arange(sample_length, len(gen)), gen[sample_length:], '.-', label=\"Generated\")\n",
    "ax2.legend()\n",
    "plt.show()"
   ]
  }
 ],
 "metadata": {
  "kernelspec": {
   "display_name": "Python 3",
   "language": "python",
   "name": "python3"
  },
  "language_info": {
   "codemirror_mode": {
    "name": "ipython",
    "version": 3
   },
   "file_extension": ".py",
   "mimetype": "text/x-python",
   "name": "python",
   "nbconvert_exporter": "python",
   "pygments_lexer": "ipython3",
   "version": "3.8.5"
  }
 },
 "nbformat": 4,
 "nbformat_minor": 5
}
