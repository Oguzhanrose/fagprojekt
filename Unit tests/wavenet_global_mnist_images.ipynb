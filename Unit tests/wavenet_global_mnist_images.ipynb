{
 "cells": [
  {
   "cell_type": "code",
   "execution_count": null,
   "metadata": {},
   "outputs": [],
   "source": [
    "import torch\n",
    "import torch.nn as nn\n",
    "import torch.nn.functional as F\n",
    "import matplotlib.pyplot as plt\n",
    "import torchaudio\n",
    "import numpy as np\n",
    "import seaborn; seaborn.set_style(\"darkgrid\")\n",
    "from tqdm.notebook import tqdm\n",
    "import itertools\n",
    "import random\n",
    "import os\n",
    "\n",
    "from torch.utils.data import DataLoader\n",
    "from torchvision import datasets, transforms\n",
    "\n",
    "device = \"cuda\" if torch.cuda.is_available() else \"cpu\" ; device"
   ]
  },
  {
   "cell_type": "markdown",
   "metadata": {},
   "source": [
    "# Control panel:"
   ]
  },
  {
   "cell_type": "code",
   "execution_count": 1,
   "metadata": {},
   "outputs": [],
   "source": [
    "# Hyper-parameters\n",
    "batch_size = 4\n",
    "learning_rate = 0.001\n",
    "epochs = 1\n",
    "dilation_depth = 9\n",
    "bins = 16\n",
    "channels = 64\n",
    "blocks = 1"
   ]
  },
  {
   "cell_type": "markdown",
   "metadata": {},
   "source": [
    "# Model:"
   ]
  },
  {
   "cell_type": "code",
   "execution_count": 3,
   "metadata": {},
   "outputs": [],
   "source": [
    "class Wavenet(nn.Module):\n",
    "    def __init__(self, quantization_bins, channels, dilation_depth, blocks):\n",
    "        super(Wavenet, self).__init__()\n",
    "\n",
    "        \"\"\" Part 1: Define model parameters \"\"\"\"\"\n",
    "        self.C = channels\n",
    "        self.kernel_size = 2\n",
    "        self.bins = quantization_bins\n",
    "        self.dilations = [2 ** i for i in range(dilation_depth)] * blocks\n",
    "\n",
    "        \"\"\" Part 2: Define model layers \"\"\"\n",
    "        self.pre_process_conv = nn.Conv1d(in_channels=self.bins, out_channels=self.C, kernel_size=1)\n",
    "        self.causal_layers = nn.ModuleList()\n",
    "\n",
    "        for d in self.dilations:\n",
    "            self.causal_layers.append(ResidalLayer(in_channels=self.C, out_channels=self.C, dilation=d, kernel_size=self.kernel_size))\n",
    "\n",
    "        self.post_process_conv1 = nn.Conv1d(self.C, self.C, kernel_size=1)\n",
    "        self.post_process_conv2 = nn.Conv1d(self.C, self.bins, kernel_size=1)\n",
    "\n",
    "    def forward(self, x, gc):\n",
    "        \"\"\" Function: Makes the forward pass/model prediction\n",
    "            Input: Mu- and one-hot-encoded waveform. The shape of the input is (batch_size, quantization_bins, samples).\n",
    "                   It is important that 'x' has at least the length of the models receptive field.\n",
    "            Output: Distribution for prediction of next sample. Shape (batch_size, quantization_bins, what's left after\n",
    "                    dilation, should be 1 at inference) \"\"\"\n",
    "\n",
    "        \"\"\" Part 1: Through pre-processing layer \"\"\"\n",
    "        x = self.pre_process_conv(x)\n",
    "\n",
    "        \"\"\" Part 2: Through stack of dilated causal convolutions \"\"\"\n",
    "        skips, skip = [], None\n",
    "\n",
    "        for layer in self.causal_layers:\n",
    "            x, skip = layer(x, gc)\n",
    "\n",
    "            # Save skip connection results\n",
    "            skips.append(skip)\n",
    "\n",
    "        \"\"\" Part 3: Post processes (-softmax) \"\"\"\n",
    "        # Add skip connections together \n",
    "        x = sum([s[:, :, -skip.size(2):] for s in skips])\n",
    "\n",
    "        # Do the rest of the preprocessing \n",
    "        x = F.relu(x)\n",
    "        x = self.post_process_conv1(x)  \n",
    "        x = F.relu(x)\n",
    "        x = self.post_process_conv2(x)  \n",
    "\n",
    "        return x"
   ]
  },
  {
   "cell_type": "code",
   "execution_count": 4,
   "metadata": {},
   "outputs": [],
   "source": [
    "class ResidalLayer(nn.Module):\n",
    "    \"\"\" Class description: This class is a sub-model of a residual layer (see research paper)\"\"\"\n",
    "\n",
    "    def __init__(self, in_channels:int, out_channels:int, kernel_size:int, dilation:int):\n",
    "        super(ResidalLayer, self).__init__()\n",
    "\n",
    "        \"\"\" Part 1: Define model parameters \"\"\"\n",
    "        self.dilation = dilation\n",
    "\n",
    "        \"\"\" Part 2: Define model layers \"\"\"\n",
    "        # The original Wa original WaveNet paper used a single shared 1x1 conv for both filter (f) and gate (g).\n",
    "        # Instead we use one for each here i.e. conv_f and conv_g.\n",
    "        self.conv_f = nn.Conv1d(in_channels, out_channels, kernel_size=kernel_size, dilation=dilation)\n",
    "        self.conv_g = nn.Conv1d(in_channels, out_channels, kernel_size=kernel_size, dilation=dilation)\n",
    "        \n",
    "        # Global conditioning matrix-vector product layer \n",
    "        self.gc_layer_f = nn.Linear(10, out_channels)\n",
    "        self.gc_layer_g = nn.Linear(10, out_channels)\n",
    "        \n",
    "        # 1 shared 1x1 convolution\n",
    "        self.conv_1x1 = nn.Conv1d(out_channels, out_channels, kernel_size=1)\n",
    "\n",
    "    def forward(self, x, gc):\n",
    "        # Convolutions \n",
    "        f_x = self.conv_f(x)\n",
    "        g_x = self.conv_g(x)\n",
    "        \n",
    "        # Global conditioning matrix-vector product\n",
    "        f_gc = self.gc_layer_f(gc).view(x.size(0),-1,1)\n",
    "        g_gc = self.gc_layer_g(gc).view(x.size(0),-1,1)\n",
    "        \n",
    "        # Send through gate\n",
    "        f = torch.tanh(f_x + f_gc)      \n",
    "        g = torch.sigmoid(g_x + g_gc)   \n",
    "        z = f * g                      \n",
    "        \n",
    "        # Save for skip connection\n",
    "        skip = self.conv_1x1(z)             \n",
    "\n",
    "        # Save residual as input to next layer residual layer\n",
    "        residual = x[:, :, self.dilation:] + skip\n",
    "\n",
    "        return residual, skip"
   ]
  },
  {
   "cell_type": "markdown",
   "metadata": {},
   "source": [
    "# Helper functions:"
   ]
  },
  {
   "cell_type": "code",
   "execution_count": 5,
   "metadata": {},
   "outputs": [],
   "source": [
    "def one_hot(input, bins):\n",
    "    \"\"\" Function: Makes a one-hot-encoding\n",
    "        :param input: tensor (batch_size, samples)\n",
    "        :param bins: quantization_bins\n",
    "        :return: tensor of shape (batch_size, samples, quantization_bins). \"\"\"\n",
    "    \n",
    "    as_int64 = input.long()\n",
    "    one_hotted = F.one_hot(as_int64, num_classes=bins)\n",
    "    correct_dims = one_hotted.transpose(1,2)\n",
    "    as_float32 = correct_dims.float()\n",
    "    return as_float32\n",
    "\n",
    "def get_gc(labels):\n",
    "    return F.one_hot(labels, num_classes=10).to(device).float()\n",
    "\n",
    "def mu(images):\n",
    "    return (torch.round(images*255) / (255//(bins-1))).long()"
   ]
  },
  {
   "cell_type": "markdown",
   "metadata": {},
   "source": [
    "# Create training and test set:"
   ]
  },
  {
   "cell_type": "code",
   "execution_count": 1,
   "metadata": {},
   "outputs": [
    {
     "ename": "NameError",
     "evalue": "name 'transforms' is not defined",
     "output_type": "error",
     "traceback": [
      "\u001b[1;31m---------------------------------------------------------------------------\u001b[0m",
      "\u001b[1;31mNameError\u001b[0m                                 Traceback (most recent call last)",
      "\u001b[1;32m<ipython-input-1-4d5842727644>\u001b[0m in \u001b[0;36m<module>\u001b[1;34m\u001b[0m\n\u001b[1;32m----> 1\u001b[1;33m \u001b[0mmy_transform\u001b[0m \u001b[1;33m=\u001b[0m \u001b[0mtransforms\u001b[0m\u001b[1;33m.\u001b[0m\u001b[0mCompose\u001b[0m\u001b[1;33m(\u001b[0m\u001b[1;33m[\u001b[0m\u001b[0mtransforms\u001b[0m\u001b[1;33m.\u001b[0m\u001b[0mToTensor\u001b[0m\u001b[1;33m(\u001b[0m\u001b[1;33m)\u001b[0m\u001b[1;33m]\u001b[0m\u001b[1;33m)\u001b[0m\u001b[1;33m\u001b[0m\u001b[1;33m\u001b[0m\u001b[0m\n\u001b[0m\u001b[0;32m      2\u001b[0m \u001b[0mPATH\u001b[0m \u001b[1;33m=\u001b[0m \u001b[1;34m\"./\"\u001b[0m\u001b[1;33m\u001b[0m\u001b[1;33m\u001b[0m\u001b[0m\n\u001b[0;32m      3\u001b[0m \u001b[1;33m\u001b[0m\u001b[0m\n\u001b[0;32m      4\u001b[0m \u001b[0mdataset_train\u001b[0m \u001b[1;33m=\u001b[0m \u001b[0mdatasets\u001b[0m\u001b[1;33m.\u001b[0m\u001b[0mMNIST\u001b[0m\u001b[1;33m(\u001b[0m\u001b[0mPATH\u001b[0m\u001b[1;33m,\u001b[0m \u001b[0mdownload\u001b[0m\u001b[1;33m=\u001b[0m\u001b[1;32mTrue\u001b[0m\u001b[1;33m,\u001b[0m \u001b[0mtrain\u001b[0m\u001b[1;33m=\u001b[0m\u001b[1;32mTrue\u001b[0m\u001b[1;33m,\u001b[0m \u001b[0mtransform\u001b[0m\u001b[1;33m=\u001b[0m\u001b[0mmy_transform\u001b[0m\u001b[1;33m)\u001b[0m\u001b[1;33m\u001b[0m\u001b[1;33m\u001b[0m\u001b[0m\n\u001b[0;32m      5\u001b[0m \u001b[0mdataset_test\u001b[0m \u001b[1;33m=\u001b[0m \u001b[0mdatasets\u001b[0m\u001b[1;33m.\u001b[0m\u001b[0mMNIST\u001b[0m\u001b[1;33m(\u001b[0m\u001b[0mPATH\u001b[0m\u001b[1;33m,\u001b[0m \u001b[0mdownload\u001b[0m\u001b[1;33m=\u001b[0m\u001b[1;32mTrue\u001b[0m\u001b[1;33m,\u001b[0m \u001b[0mtrain\u001b[0m\u001b[1;33m=\u001b[0m\u001b[1;32mFalse\u001b[0m\u001b[1;33m,\u001b[0m \u001b[0mtransform\u001b[0m\u001b[1;33m=\u001b[0m\u001b[0mmy_transform\u001b[0m\u001b[1;33m)\u001b[0m\u001b[1;33m\u001b[0m\u001b[1;33m\u001b[0m\u001b[0m\n",
      "\u001b[1;31mNameError\u001b[0m: name 'transforms' is not defined"
     ]
    }
   ],
   "source": [
    "my_transform = transforms.Compose([transforms.ToTensor()])\n",
    "PATH = \"./\"\n",
    "\n",
    "dataset_train = datasets.MNIST(PATH, download=True, train=True, transform=my_transform)\n",
    "dataset_test = datasets.MNIST(PATH, download=True, train=False, transform=my_transform)\n",
    "\n",
    "train_dl = DataLoader(dataset_train, batch_size=batch_size, shuffle=True)\n",
    "test_dl = DataLoader(dataset_test, batch_size=batch_size)"
   ]
  },
  {
   "cell_type": "markdown",
   "metadata": {},
   "source": [
    "# Training: "
   ]
  },
  {
   "cell_type": "code",
   "execution_count": 9,
   "metadata": {},
   "outputs": [
    {
     "data": {
      "application/vnd.jupyter.widget-view+json": {
       "model_id": "e5fb7129f3d64c849eeefb6e082686e4",
       "version_major": 2,
       "version_minor": 0
      },
      "text/plain": [
       "  0%|          | 0/15000 [00:00<?, ?it/s]"
      ]
     },
     "metadata": {},
     "output_type": "display_data"
    }
   ],
   "source": [
    "# Define model \n",
    "model = Wavenet(bins, channels, dilation_depth, blocks)\n",
    "model.to(device);\n",
    "\n",
    "# Define optimizer and loss function\n",
    "optim = torch.optim.Adam(model.parameters(), lr=learning_rate)\n",
    "criterion = torch.nn.CrossEntropyLoss()\n",
    "\n",
    "# Variables for storing loss (for later visualization)\n",
    "losses = []\n",
    "test_losses = []\n",
    "\n",
    "# Training loop\n",
    "for epoch in range(epochs):\n",
    "    progress_bar = tqdm(train_dl, total=len(train_dl))\n",
    "    for images, labels in train_dl:\n",
    "        model.train()\n",
    "        \n",
    "        # Global embedding consitisting of one-hot encoded label (train_set_size x 10)\n",
    "        gc = get_gc(labels)\n",
    "        \n",
    "        # Correctly format data for Wavenet and it's loss\n",
    "        images = images.view(-1, 784).to(device)\n",
    "        y_true = mu(images)\n",
    "        x = one_hot(y_true, bins=bins)\n",
    "\n",
    "        # Predictions and loss \n",
    "        y_preds = model(x, gc)   \n",
    "        loss = criterion(y_preds[:, :, :-1], y_true[:, -y_preds.size(2)+1:])\n",
    "\n",
    "        # Updates\n",
    "        losses.append(loss.item())\n",
    "        loss.backward()\n",
    "        optim.step()\n",
    "        optim.zero_grad()\n",
    "        \n",
    "        progress_bar.set_postfix({\"train_loss\": loss.detach().cpu().item()})\n",
    "        progress_bar.update()\n"
   ]
  },
  {
   "cell_type": "markdown",
   "metadata": {},
   "source": [
    "# Plot loss:"
   ]
  },
  {
   "cell_type": "code",
   "execution_count": 10,
   "metadata": {},
   "outputs": [
    {
     "data": {
      "image/png": "[encoded data removed]",
      "text/plain": [
       "<Figure size 864x576 with 2 Axes>"
      ]
     },
     "metadata": {},
     "output_type": "display_data"
    }
   ],
   "source": [
    "# Plots\n",
    "_, (ax1, ax2) = plt.subplots(2,1, figsize=(12,8))\n",
    "\n",
    "ax1.plot(losses, label=\"Cross entropy loss\")\n",
    "ax1.legend()\n",
    "ax2.plot(test_losses, label=\"Cross entropy loss\")\n",
    "\n",
    "ax2.legend()\n",
    "plt.show()"
   ]
  },
  {
   "cell_type": "markdown",
   "metadata": {},
   "source": [
    "# Generation:"
   ]
  },
  {
   "cell_type": "code",
   "execution_count": 2,
   "metadata": {
    "code_folding": []
   },
   "outputs": [
    {
     "ename": "NameError",
     "evalue": "name 'torch' is not defined",
     "output_type": "error",
     "traceback": [
      "\u001b[1;31m---------------------------------------------------------------------------\u001b[0m",
      "\u001b[1;31mNameError\u001b[0m                                 Traceback (most recent call last)",
      "\u001b[1;32m<ipython-input-2-d54c0a60ffe6>\u001b[0m in \u001b[0;36m<module>\u001b[1;34m\u001b[0m\n\u001b[1;32m----> 1\u001b[1;33m \u001b[1;32mdef\u001b[0m \u001b[0mgenerate\u001b[0m\u001b[1;33m(\u001b[0m\u001b[0mseed\u001b[0m\u001b[1;33m:\u001b[0m \u001b[0mtorch\u001b[0m\u001b[1;33m.\u001b[0m\u001b[0mtensor\u001b[0m\u001b[1;33m,\u001b[0m \u001b[0mlabel\u001b[0m\u001b[1;33m,\u001b[0m \u001b[0mamount\u001b[0m\u001b[1;33m:\u001b[0m \u001b[0mint\u001b[0m\u001b[1;33m,\u001b[0m \u001b[0mmodel\u001b[0m\u001b[1;33m,\u001b[0m \u001b[0mbins\u001b[0m\u001b[1;33m:\u001b[0m \u001b[0mint\u001b[0m\u001b[1;33m)\u001b[0m\u001b[1;33m:\u001b[0m\u001b[1;33m\u001b[0m\u001b[1;33m\u001b[0m\u001b[0m\n\u001b[0m\u001b[0;32m      2\u001b[0m     \"\"\" Function: Inefficinet - but intutitive - implemenetation of sample generation\n\u001b[0;32m      3\u001b[0m     \u001b[1;33m:\u001b[0m\u001b[0mparam\u001b[0m \u001b[0mseed\u001b[0m\u001b[1;33m:\u001b[0m \u001b[0mstart\u001b[0m \u001b[0mthe\u001b[0m \u001b[0mgeneration\u001b[0m \u001b[0mprocess\u001b[0m\u001b[1;33m,\u001b[0m \u001b[0mmust\u001b[0m \u001b[0mbe\u001b[0m \u001b[0mat\u001b[0m \u001b[0mleast\u001b[0m \u001b[0mthe\u001b[0m \u001b[0msize\u001b[0m \u001b[0mof\u001b[0m \u001b[0mthe\u001b[0m \u001b[0mmodel\u001b[0m\u001b[0;31m'\u001b[0m\u001b[0ms\u001b[0m \u001b[0mreceptive\u001b[0m \u001b[0mfield\u001b[0m\u001b[1;33m.\u001b[0m \u001b[0mShape\u001b[0m \u001b[1;33m(\u001b[0m\u001b[1;36m1\u001b[0m\u001b[1;33m,\u001b[0m \u001b[0msamples\u001b[0m\u001b[1;33m)\u001b[0m\u001b[1;33m\u001b[0m\u001b[1;33m\u001b[0m\u001b[0m\n\u001b[0;32m      4\u001b[0m     \u001b[1;33m:\u001b[0m\u001b[0mparam\u001b[0m \u001b[0mamount\u001b[0m\u001b[1;33m:\u001b[0m \u001b[0mnumber\u001b[0m \u001b[0mof\u001b[0m \u001b[0msamples\u001b[0m \u001b[0mto\u001b[0m \u001b[0mgenerate\u001b[0m\u001b[1;33m\u001b[0m\u001b[1;33m\u001b[0m\u001b[0m\n\u001b[0;32m      5\u001b[0m     \u001b[1;33m:\u001b[0m\u001b[1;32mreturn\u001b[0m\u001b[1;33m:\u001b[0m \u001b[0mlist\u001b[0m \u001b[1;32mwith\u001b[0m \u001b[1;33m[\u001b[0m\u001b[0mseed\u001b[0m \u001b[1;33m+\u001b[0m \u001b[0mgenerated_samples\u001b[0m\u001b[1;33m]\u001b[0m\u001b[1;33m\u001b[0m\u001b[1;33m\u001b[0m\u001b[0m\n",
      "\u001b[1;31mNameError\u001b[0m: name 'torch' is not defined"
     ]
    }
   ],
   "source": [
    "def generate(seed: torch.tensor, label, amount: int, model, bins: int):\n",
    "    \"\"\" Function: Inefficinet - but intutitive - implemenetation of sample generation\n",
    "    :param seed: start the generation process, must be at least the size of the model's receptive field. Shape (1, samples)\n",
    "    :param amount: number of samples to generate\n",
    "    :return: list with [seed + generated_samples]\n",
    "    \"\"\"\n",
    "\n",
    "    model.eval()\n",
    "    temp = seed[0].tolist()\n",
    "    next_point = -sum(model.dilations) - 1\n",
    "    for n in range(amount):\n",
    "        input = torch.tensor(temp[next_point:]).long().to(device)\n",
    "        input = one_hot(input.unsqueeze(0), bins)\n",
    "        predictions = model(input, get_gc(label))\n",
    "        predictions = torch.softmax(predictions, dim=1)\n",
    "        max_index = torch.multinomial(predictions[0, :, 0], 1).squeeze()\n",
    "        temp.append(max_index.item())\n",
    "    return temp"
   ]
  },
  {
   "cell_type": "markdown",
   "metadata": {},
   "source": [
    "# Plot:"
   ]
  },
  {
   "cell_type": "code",
   "execution_count": null,
   "metadata": {},
   "outputs": [],
   "source": [
    "def show_images(nrow=2, ncol=2, random_seed=False, include_seed=False):\n",
    "    _, axs = plt.subplots( nrow, ncol, figsize=(10,10) )\n",
    "    coordinates = list(itertools.product([i for i in range(nrow)], [i for i in range(ncol)]))\n",
    "    for i in range(nrow*ncol):\n",
    "        idx = random.randint(0, len(dataset_train))\n",
    "        if random_seed: seed = torch.rand(2**dilation_depth)\n",
    "        else: seed = dataset_train[idx][0].view(28**2).to(device)[:2**dilation_depth]\n",
    "        generate_length = 28**2  if not include_seed else 28**2-seed.shape[0] \n",
    "        seed = mu(seed).view(1,-1).to(device)\n",
    "        label = torch.tensor([dataset_train[idx][1]])\n",
    "        \n",
    "        gen = generate(seed=seed, label=label, amount=generate_length , model=model, bins=bins)\n",
    "        row, col = coordinates[i]\n",
    "        \n",
    "        gen = torch.tensor(gen) * (255//(bins-1))\n",
    "        if include_seed:\n",
    "            cut_off_row = (2**dilation_depth)//28\n",
    "            gen = gen.view(28,28)\n",
    "            gen[cut_off_row][:] = torch.tensor([128 for i in range(28)])\n",
    "            gen.numpy()\n",
    "        else:\n",
    "            gen = gen[-28**2:].view(28,28).numpy()\n",
    "        \n",
    "        \n",
    "        axs[row, col].imshow(gen, cmap=\"gray\")\n",
    "        axs[row, col].axis(\"off\")\n",
    "        axs[row, col].set_title(str(label.item()))\n",
    "    \n",
    "    plt.savefig(\"global.pdf\", dpi = 180, bbox_inches = 'tight')\n",
    "    plt.show()\n",
    "\n",
    "show_images(ncol=4, nrow=4, random_seed=False, include_seed=True)"
   ]
  }
 ],
 "metadata": {
  "kernelspec": {
   "display_name": "Python 3",
   "language": "python",
   "name": "python3"
  },
  "language_info": {
   "codemirror_mode": {
    "name": "ipython",
    "version": 3
   },
   "file_extension": ".py",
   "mimetype": "text/x-python",
   "name": "python",
   "nbconvert_exporter": "python",
   "pygments_lexer": "ipython3",
   "version": "3.8.5"
  }
 },
 "nbformat": 4,
 "nbformat_minor": 4
}
